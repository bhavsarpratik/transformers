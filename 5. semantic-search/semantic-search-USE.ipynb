{
  "nbformat": 4,
  "nbformat_minor": 0,
  "metadata": {
    "kernelspec": {
      "display_name": "Python 3",
      "language": "python",
      "name": "python3"
    },
    "language_info": {
      "codemirror_mode": {
        "name": "ipython",
        "version": 3
      },
      "file_extension": ".py",
      "mimetype": "text/x-python",
      "name": "python",
      "nbconvert_exporter": "python",
      "pygments_lexer": "ipython3",
      "version": "3.6.9"
    },
    "colab": {
      "name": "search-USE-multilingual-quora.ipynb",
      "provenance": [],
      "collapsed_sections": []
    }
  },
  "cells": [
    {
      "cell_type": "markdown",
      "metadata": {
        "id": "BmPCYP-iI5Wu",
        "colab_type": "text"
      },
      "source": [
        "## Installing dependecies"
      ]
    },
    {
      "cell_type": "code",
      "metadata": {
        "id": "IjYaJ-kAJd0A",
        "colab_type": "code",
        "outputId": "a52f890d-bf9e-4ad2-bfba-6a5dde34ec13",
        "colab": {
          "base_uri": "https://localhost:8080/",
          "height": 156
        }
      },
      "source": [
        "from google.colab import drive\n",
        "drive.mount('/content/drive', force_remount=True)\n",
        "\n",
        "import os \n",
        "try:\n",
        "  os.chdir('drive/My Drive/Colab Notebooks/search')\n",
        "  print('Changed directory')\n",
        "  print(os.getcwd())\n",
        "except:\n",
        "  print('Cannot change directory')\n",
        "  print(os.getcwd())"
      ],
      "execution_count": 0,
      "outputs": [
        {
          "output_type": "stream",
          "text": [
            "Go to this URL in a browser: https://accounts.google.com/o/oauth2/auth?client_id=947318989803-6bn6qk8qdgf4n4g3pfee6491hc0brc4i.apps.googleusercontent.com&redirect_uri=urn%3aietf%3awg%3aoauth%3a2.0%3aoob&response_type=code&scope=email%20https%3a%2f%2fwww.googleapis.com%2fauth%2fdocs.test%20https%3a%2f%2fwww.googleapis.com%2fauth%2fdrive%20https%3a%2f%2fwww.googleapis.com%2fauth%2fdrive.photos.readonly%20https%3a%2f%2fwww.googleapis.com%2fauth%2fpeopleapi.readonly\n",
            "\n",
            "Enter your authorization code:\n",
            "··········\n",
            "Mounted at /content/drive\n",
            "Changed directory\n",
            "/content/drive/My Drive/Colab Notebooks/search\n"
          ],
          "name": "stdout"
        }
      ]
    },
    {
      "cell_type": "code",
      "metadata": {
        "id": "qog_kfy0I5Wx",
        "colab_type": "code",
        "colab": {}
      },
      "source": [
        "# !pip install tensorflow tensorflow_text -U\n",
        "# !pip install flair==0.4.3 \n",
        "# !curl -L https://anaconda.org/pytorch/faiss-cpu/1.6.0/download/linux-64/faiss-cpu-1.6.0-py36h6bb024c_0.tar.bz2 | tar xj\n",
        "# !mv lib/python3.6/site-packages/* /usr/local/lib/python3.6/dist-packages/"
      ],
      "execution_count": 0,
      "outputs": []
    },
    {
      "cell_type": "code",
      "metadata": {
        "id": "7pGg_Jh2I5W0",
        "colab_type": "code",
        "outputId": "a3c51202-d3f8-4955-f69b-a415cb2b5027",
        "colab": {
          "base_uri": "https://localhost:8080/",
          "height": 34
        }
      },
      "source": [
        "from abc import ABCMeta, abstractmethod\n",
        "\n",
        "import pandas as pd\n",
        "import tensorflow_hub as hub\n",
        "import tensorflow as tf\n",
        "import tensorflow_text\n",
        "\n",
        "from flair.embeddings import BertEmbeddings, DocumentPoolEmbeddings\n",
        "from flair.data import Sentence\n",
        "\n",
        "import faiss\n",
        "\n",
        "from tqdm import tqdm"
      ],
      "execution_count": 0,
      "outputs": [
        {
          "output_type": "stream",
          "text": [
            "Loading faiss with AVX2 support.\n"
          ],
          "name": "stderr"
        }
      ]
    },
    {
      "cell_type": "code",
      "metadata": {
        "id": "M5TohnQ8I5W4",
        "colab_type": "code",
        "outputId": "a3b9855c-abf9-49a0-ba99-d574187c7b4c",
        "colab": {
          "base_uri": "https://localhost:8080/",
          "height": 204
        }
      },
      "source": [
        "df = pd.read_csv('quora-question-pairs/train.csv')\n",
        "df = df.sample(frac=0.01, random_state=1)\n",
        "df.dropna(inplace=True)\n",
        "df.head()"
      ],
      "execution_count": 0,
      "outputs": [
        {
          "output_type": "execute_result",
          "data": {
            "text/html": [
              "<div>\n",
              "<style scoped>\n",
              "    .dataframe tbody tr th:only-of-type {\n",
              "        vertical-align: middle;\n",
              "    }\n",
              "\n",
              "    .dataframe tbody tr th {\n",
              "        vertical-align: top;\n",
              "    }\n",
              "\n",
              "    .dataframe thead th {\n",
              "        text-align: right;\n",
              "    }\n",
              "</style>\n",
              "<table border=\"1\" class=\"dataframe\">\n",
              "  <thead>\n",
              "    <tr style=\"text-align: right;\">\n",
              "      <th></th>\n",
              "      <th>id</th>\n",
              "      <th>qid1</th>\n",
              "      <th>qid2</th>\n",
              "      <th>question1</th>\n",
              "      <th>question2</th>\n",
              "      <th>is_duplicate</th>\n",
              "    </tr>\n",
              "  </thead>\n",
              "  <tbody>\n",
              "    <tr>\n",
              "      <th>237030</th>\n",
              "      <td>237030</td>\n",
              "      <td>33086</td>\n",
              "      <td>348102</td>\n",
              "      <td>How can I stop playing video games?</td>\n",
              "      <td>Should I stop playing video games with my child?</td>\n",
              "      <td>0</td>\n",
              "    </tr>\n",
              "    <tr>\n",
              "      <th>247341</th>\n",
              "      <td>247341</td>\n",
              "      <td>73272</td>\n",
              "      <td>8624</td>\n",
              "      <td>Who is better Donald Trump or Hillary Clinton?</td>\n",
              "      <td>Why is Hillary Clinton a better choice than Do...</td>\n",
              "      <td>1</td>\n",
              "    </tr>\n",
              "    <tr>\n",
              "      <th>246425</th>\n",
              "      <td>246425</td>\n",
              "      <td>359482</td>\n",
              "      <td>359483</td>\n",
              "      <td>What do you think is the chance that sometime ...</td>\n",
              "      <td>Do you think there will be another world war/n...</td>\n",
              "      <td>1</td>\n",
              "    </tr>\n",
              "    <tr>\n",
              "      <th>306985</th>\n",
              "      <td>306985</td>\n",
              "      <td>1357</td>\n",
              "      <td>47020</td>\n",
              "      <td>Why are so many questions posted to Quora that...</td>\n",
              "      <td>Why do people write questions on Quora that co...</td>\n",
              "      <td>1</td>\n",
              "    </tr>\n",
              "    <tr>\n",
              "      <th>225863</th>\n",
              "      <td>225863</td>\n",
              "      <td>334315</td>\n",
              "      <td>334316</td>\n",
              "      <td>Can there even be a movie ever rated 10/10 on ...</td>\n",
              "      <td>What are your 10/10 movies?</td>\n",
              "      <td>0</td>\n",
              "    </tr>\n",
              "  </tbody>\n",
              "</table>\n",
              "</div>"
            ],
            "text/plain": [
              "            id  ...  is_duplicate\n",
              "237030  237030  ...             0\n",
              "247341  247341  ...             1\n",
              "246425  246425  ...             1\n",
              "306985  306985  ...             1\n",
              "225863  225863  ...             0\n",
              "\n",
              "[5 rows x 6 columns]"
            ]
          },
          "metadata": {
            "tags": []
          },
          "execution_count": 6
        }
      ]
    },
    {
      "cell_type": "code",
      "metadata": {
        "id": "w0RBcqpAI5W6",
        "colab_type": "code",
        "outputId": "7b133764-1c92-4afc-ad0a-b48f37c6e79b",
        "colab": {
          "base_uri": "https://localhost:8080/",
          "height": 34
        }
      },
      "source": [
        "questions = df.question1.values\n",
        "len(questions)"
      ],
      "execution_count": 0,
      "outputs": [
        {
          "output_type": "execute_result",
          "data": {
            "text/plain": [
              "4043"
            ]
          },
          "metadata": {
            "tags": []
          },
          "execution_count": 7
        }
      ]
    },
    {
      "cell_type": "markdown",
      "metadata": {
        "id": "TSlk2CWZI5W9",
        "colab_type": "text"
      },
      "source": [
        "## Universal Sentence Encoder https://arxiv.org/pdf/1803.11175.pdf"
      ]
    },
    {
      "cell_type": "markdown",
      "metadata": {
        "id": "CnEu4nNNI5W-",
        "colab_type": "text"
      },
      "source": [
        "### Languages Family\n",
        "#### - Arabic (ar) Semitic\n",
        "#### - Chinese (PRC) (zh) Sino-Tibetan\n",
        "#### - Chinese (Taiwan) (zh-tw)\n",
        "#### - Dutch(nl) English(en) Germanic\n",
        "#### - German (de)\n",
        "#### - French (fr) Italian (it) Latin\n",
        "#### - Portuguese (pt) Spanish (es)\n",
        "#### - Japanese (ja) Japonic\n",
        "#### - Korean (ko) Koreanic\n",
        "#### - Russian (ru) Polish (pl) Slavic\n",
        "#### - Thai (th) Kra–Dai\n",
        "#### - Turkish (tr) Turkic"
      ]
    },
    {
      "cell_type": "code",
      "metadata": {
        "id": "wiITKxrEI5W-",
        "colab_type": "code",
        "colab": {}
      },
      "source": [
        "class TFEncoder(metaclass=ABCMeta):\n",
        "    \"\"\"Base encoder to be used for all encoders.\"\"\"\n",
        "    def __init__(self, model_path:str):\n",
        "        self.model = hub.load(model_path)\n",
        "    \n",
        "    @abstractmethod\n",
        "    def encode(self, text:list):\n",
        "        \"\"\"Encodes text.\n",
        "        Text: should be a list of strings to encode\n",
        "        \"\"\"\n",
        "        \n",
        "class USE(TFEncoder):\n",
        "    \"\"\"Universal sentence encoder\"\"\"\n",
        "    def __init__(self, model_path):\n",
        "        super().__init__(model_path)\n",
        "        \n",
        "    def encode(self, text):\n",
        "        return self.model(text).numpy()\n",
        "    \n",
        "class USEQA(TFEncoder):\n",
        "    \"\"\"Universal sentence encoder trained on Question Answer pairs\"\"\"\n",
        "    def __init__(self, model_path):\n",
        "        super().__init__(model_path)\n",
        "        \n",
        "    def encode(self, text):\n",
        "        return self.model.signatures['question_encoder'](tf.constant(s))['outputs'].numpy()\n",
        "    \n",
        "class BERT():\n",
        "    \"\"\"BERT models\"\"\"\n",
        "    def __init__(self, model_name, layers=\"-2\", pooling_operation=\"mean\"):\n",
        "        self.embeddings = BertEmbeddings(model_name, \n",
        "                                         layers=layers,\n",
        "                                         pooling_operation=pooling_operation)\n",
        "\n",
        "        self.document_embeddings = DocumentPoolEmbeddings([self.embeddings], fine_tune_mode='nonlinear')\n",
        "        \n",
        "    def encode(self, text):\n",
        "        sentence = Sentence(text)\n",
        "        self.document_embeddings.embed(sentence)\n",
        "        return sentence.embedding.detach().numpy().reshape(1, -1)\n",
        "\n",
        "\n",
        "# model_path = 'https://tfhub.dev/google/universal-sentence-encoder-qa/3'\n",
        "# model_path = '../../models/universal-sentence-encoder-qa3/'\n",
        "\n",
        "# https://arxiv.org/pdf/1803.11175.pdf\n",
        "# model_path = '../../models/universal-sentence-encoder-large5/' #best for english\n",
        "\n",
        "model_path = \"https://tfhub.dev/google/universal-sentence-encoder-multilingual-large/3\"\n",
        "# model_path = '../../models/universal-sentence-encoder-multilingual-large3/'\n",
        "\n",
        "# encoder = BERT('bert-base-uncased')\n",
        "encoder = USE(model_path)"
      ],
      "execution_count": 0,
      "outputs": []
    },
    {
      "cell_type": "code",
      "metadata": {
        "id": "uWygc5MkI5XA",
        "colab_type": "code",
        "outputId": "b0372baf-6251-450f-8eed-b3419cd7a663",
        "colab": {
          "base_uri": "https://localhost:8080/",
          "height": 34
        }
      },
      "source": [
        "encoder.encode(['hello']).shape"
      ],
      "execution_count": 0,
      "outputs": [
        {
          "output_type": "execute_result",
          "data": {
            "text/plain": [
              "(1, 512)"
            ]
          },
          "metadata": {
            "tags": []
          },
          "execution_count": 10
        }
      ]
    },
    {
      "cell_type": "code",
      "metadata": {
        "id": "YsO3azz5I5XD",
        "colab_type": "code",
        "outputId": "31ae3f7a-2d7a-45b0-cbc9-926200f82ec3",
        "colab": {
          "base_uri": "https://localhost:8080/",
          "height": 34
        }
      },
      "source": [
        "d = encoder.encode(['hello']).shape[-1]\n",
        "d"
      ],
      "execution_count": 0,
      "outputs": [
        {
          "output_type": "execute_result",
          "data": {
            "text/plain": [
              "512"
            ]
          },
          "metadata": {
            "tags": []
          },
          "execution_count": 11
        }
      ]
    },
    {
      "cell_type": "markdown",
      "metadata": {
        "id": "BLv_IN4rI5XF",
        "colab_type": "text"
      },
      "source": [
        "## FAISS class"
      ]
    },
    {
      "cell_type": "code",
      "metadata": {
        "id": "NOjg67VMI5XG",
        "colab_type": "code",
        "colab": {}
      },
      "source": [
        "class FAISS:\n",
        "    def __init__(self, dimensions:int):\n",
        "        self.dimensions = dimensions\n",
        "        self.index = faiss.IndexFlatL2(dimensions)\n",
        "        self.vectors = {}\n",
        "        self.counter = 0\n",
        "    \n",
        "    def add(self, text:str, v:list):\n",
        "        self.index.add(v)\n",
        "        self.vectors[self.counter] = (text, v)\n",
        "        self.counter += 1\n",
        "        \n",
        "    def search(self, v:list, k:int=10):\n",
        "        distance, item_index = self.index.search(v, k)\n",
        "        for dist, i in zip(distance[0], item_index[0]):\n",
        "            if i==-1:\n",
        "                break\n",
        "            else:\n",
        "                print(f'{self.vectors[i][0]}, %.2f'%dist)"
      ],
      "execution_count": 0,
      "outputs": []
    },
    {
      "cell_type": "markdown",
      "metadata": {
        "id": "pXJnZHRJI5XI",
        "colab_type": "text"
      },
      "source": [
        "## Testing vector search"
      ]
    },
    {
      "cell_type": "code",
      "metadata": {
        "id": "XtueVdSKI5XJ",
        "colab_type": "code",
        "outputId": "cedabeba-bc1c-4153-cb6f-fdc83e5aa975",
        "colab": {
          "base_uri": "https://localhost:8080/",
          "height": 68
        }
      },
      "source": [
        "index = FAISS(d)\n",
        "\n",
        "# index word\n",
        "t1 = 'hello'\n",
        "v1 = encoder.encode([t1])\n",
        "index.add(t1, v1)\n",
        "\n",
        "# index word\n",
        "t1 = 'bye'\n",
        "v1 = encoder.encode([t1])\n",
        "index.add(t1, v1)\n",
        "\n",
        "# search similar word\n",
        "t1 = 'hi'\n",
        "v1 = encoder.encode([t1])\n",
        "print('word,  distance')\n",
        "index.search(v1)"
      ],
      "execution_count": 0,
      "outputs": [
        {
          "output_type": "stream",
          "text": [
            "word,  distance\n",
            "hello, 0.07\n",
            "bye, 0.83\n"
          ],
          "name": "stdout"
        }
      ]
    },
    {
      "cell_type": "markdown",
      "metadata": {
        "id": "OlOHPcn2I5XL",
        "colab_type": "text"
      },
      "source": [
        "## Generate embeddings and index all questions"
      ]
    },
    {
      "cell_type": "code",
      "metadata": {
        "id": "nr2-ZSRCI5XM",
        "colab_type": "code",
        "outputId": "a8dac542-aade-45a3-be19-d9b2381a2a52",
        "colab": {
          "base_uri": "https://localhost:8080/",
          "height": 34
        }
      },
      "source": [
        "index = FAISS(d)\n",
        "\n",
        "for q in tqdm(questions):\n",
        "    emb = encoder.encode([q])\n",
        "    index.add(q, emb)"
      ],
      "execution_count": 0,
      "outputs": [
        {
          "output_type": "stream",
          "text": [
            "100%|██████████| 4043/4043 [04:00<00:00, 16.83it/s]\n"
          ],
          "name": "stderr"
        }
      ]
    },
    {
      "cell_type": "code",
      "metadata": {
        "id": "kZ_qKAy6I5XO",
        "colab_type": "code",
        "colab": {}
      },
      "source": [
        "def search(s, k=10):\n",
        "    emb = encoder.encode([s])\n",
        "    index.search(emb, k)"
      ],
      "execution_count": 0,
      "outputs": []
    },
    {
      "cell_type": "markdown",
      "metadata": {
        "id": "JsOF-59nI5XQ",
        "colab_type": "text"
      },
      "source": [
        "# Search Examples"
      ]
    },
    {
      "cell_type": "code",
      "metadata": {
        "id": "dWu9-aMaI5XQ",
        "colab_type": "code",
        "outputId": "2be44345-b583-46a9-b5c6-970b6b776b5e",
        "colab": {
          "base_uri": "https://localhost:8080/",
          "height": 187
        }
      },
      "source": [
        "search('how to lose weight?')"
      ],
      "execution_count": 0,
      "outputs": [
        {
          "output_type": "stream",
          "text": [
            "How do lose weight with healthy way?, 0.22\n",
            "Can you offer me any advice on how to lose weight?, 0.28\n",
            "Can you offer me any advice on how to lose weight?, 0.28\n",
            "Can you offer me any advice on how to lose weight?, 0.28\n",
            "What are the best ways to lose weight?, 0.29\n",
            "How can I lose weight safely?, 0.31\n",
            "How can I lose weight without doing excercise?, 0.32\n",
            "I'm overweight. How can I begin to lose weight?, 0.33\n",
            "I'm overweight. How can I begin to lose weight?, 0.33\n",
            "How can I lose weight quickly? Need serious help., 0.38\n"
          ],
          "name": "stdout"
        }
      ]
    },
    {
      "cell_type": "code",
      "metadata": {
        "id": "R8FIanB7I5XS",
        "colab_type": "code",
        "outputId": "680fc424-ee22-47b6-803a-5d8d2d6d033f",
        "colab": {
          "base_uri": "https://localhost:8080/",
          "height": 204
        }
      },
      "source": [
        "print('Japanese')\n",
        "search('体重を減らす方法は？')"
      ],
      "execution_count": 0,
      "outputs": [
        {
          "output_type": "stream",
          "text": [
            "Japanese\n",
            "What are the best ways to lose weight?, 0.31\n",
            "How do lose weight with healthy way?, 0.36\n",
            "Can you offer me any advice on how to lose weight?, 0.37\n",
            "Can you offer me any advice on how to lose weight?, 0.37\n",
            "Can you offer me any advice on how to lose weight?, 0.37\n",
            "How could I lose a few pounds quickly?, 0.39\n",
            "How can I lose weight quickly? Need serious help., 0.42\n",
            "How can I lose weight without doing excercise?, 0.43\n",
            "How can I lose weight safely?, 0.43\n",
            "What is the fastest way to lose weight successfully?, 0.43\n"
          ],
          "name": "stdout"
        }
      ]
    },
    {
      "cell_type": "code",
      "metadata": {
        "id": "5piqr1bKI5XV",
        "colab_type": "code",
        "outputId": "1db58108-246d-480b-d765-5c8e7a5e4aa9",
        "colab": {
          "base_uri": "https://localhost:8080/",
          "height": 204
        }
      },
      "source": [
        "print('Chinese')\n",
        "search('如何减肥?')"
      ],
      "execution_count": 0,
      "outputs": [
        {
          "output_type": "stream",
          "text": [
            "Chinese\n",
            "How do lose weight with healthy way?, 0.30\n",
            "What are the best ways to lose weight?, 0.34\n",
            "How can I lose weight without doing excercise?, 0.38\n",
            "Can you offer me any advice on how to lose weight?, 0.40\n",
            "Can you offer me any advice on how to lose weight?, 0.40\n",
            "Can you offer me any advice on how to lose weight?, 0.40\n",
            "How can I lose weight safely?, 0.42\n",
            "How can I lose weight quickly? Need serious help., 0.45\n",
            "How could I lose a few pounds quickly?, 0.46\n",
            "What are the best ways to lose weight? What is the best diet plan?, 0.49\n"
          ],
          "name": "stdout"
        }
      ]
    },
    {
      "cell_type": "code",
      "metadata": {
        "id": "OEh8nst3I5XX",
        "colab_type": "code",
        "outputId": "a7988f3b-7d71-4553-870f-587a3941ae4d",
        "colab": {
          "base_uri": "https://localhost:8080/",
          "height": 204
        }
      },
      "source": [
        "print('Spanish')\n",
        "search('¿Cómo perder peso?')"
      ],
      "execution_count": 0,
      "outputs": [
        {
          "output_type": "stream",
          "text": [
            "Spanish\n",
            "How do lose weight with healthy way?, 0.22\n",
            "What are the best ways to lose weight?, 0.25\n",
            "How can I lose weight without doing excercise?, 0.28\n",
            "How can I lose weight safely?, 0.29\n",
            "Can you offer me any advice on how to lose weight?, 0.30\n",
            "Can you offer me any advice on how to lose weight?, 0.30\n",
            "Can you offer me any advice on how to lose weight?, 0.30\n",
            "How can I lose weight quickly? Need serious help., 0.31\n",
            "How could I lose a few pounds quickly?, 0.32\n",
            "I'm overweight. How can I begin to lose weight?, 0.36\n"
          ],
          "name": "stdout"
        }
      ]
    },
    {
      "cell_type": "code",
      "metadata": {
        "id": "ajiXqQu7I5XZ",
        "colab_type": "code",
        "outputId": "ce7ad394-37bc-4a22-aa10-7a394fe43ab6",
        "colab": {
          "base_uri": "https://localhost:8080/",
          "height": 204
        }
      },
      "source": [
        "print('German')\n",
        "search('wie man Gewicht verliert?')"
      ],
      "execution_count": 0,
      "outputs": [
        {
          "output_type": "stream",
          "text": [
            "German\n",
            "How do lose weight with healthy way?, 0.34\n",
            "What are the best ways to lose weight?, 0.34\n",
            "How could I lose a few pounds quickly?, 0.38\n",
            "How can I lose weight without doing excercise?, 0.40\n",
            "Can you offer me any advice on how to lose weight?, 0.41\n",
            "Can you offer me any advice on how to lose weight?, 0.41\n",
            "Can you offer me any advice on how to lose weight?, 0.41\n",
            "What is the fastest way to lose weight successfully?, 0.42\n",
            "How can I lose weight safely?, 0.44\n",
            "How can I lose weight quickly? Need serious help., 0.46\n"
          ],
          "name": "stdout"
        }
      ]
    },
    {
      "cell_type": "code",
      "metadata": {
        "id": "aOsuTVgzI5Xb",
        "colab_type": "code",
        "colab": {}
      },
      "source": [
        ""
      ],
      "execution_count": 0,
      "outputs": []
    },
    {
      "cell_type": "code",
      "metadata": {
        "id": "NTHjTnggI5Xd",
        "colab_type": "code",
        "colab": {}
      },
      "source": [
        ""
      ],
      "execution_count": 0,
      "outputs": []
    }
  ]
}